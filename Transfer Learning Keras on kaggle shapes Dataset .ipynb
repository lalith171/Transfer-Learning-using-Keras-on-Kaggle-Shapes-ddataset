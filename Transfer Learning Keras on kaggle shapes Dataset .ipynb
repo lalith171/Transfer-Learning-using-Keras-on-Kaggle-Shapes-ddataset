{
  "cells": [
    {
      "metadata": {
        "_uuid": "8f2839f25d086af736a60e9eeb907d3b93b6e0e5",
        "_cell_guid": "b1076dfc-b9ad-4769-8c92-a6c4dae69d19",
        "trusted": true
      },
      "cell_type": "code",
      "source": "# This Python 3 environment comes with many helpful analytics libraries installed\n# It is defined by the kaggle/python docker image: https://github.com/kaggle/docker-python\n# For example, here's several helpful packages to load in \n\nimport numpy as np # linear algebra\nimport pandas as pd # data processing, CSV file I/O (e.g. pd.read_csv)\nimport tensorflow as tf\n\n# Input data files are available in the \"../input/\" directory.\n# For example, running this (by clicking run or pressing Shift+Enter) will list the files in the input directory\n\nimport os\nprint(os.listdir(\"../input/shapes\"))\n!pwd\n\n# Any results you write to the current directory are saved as output.",
      "execution_count": null,
      "outputs": []
    },
    {
      "metadata": {
        "trusted": true,
        "_uuid": "5cb0b9b73d975ca39fabbde183018eb33a86e8f1"
      },
      "cell_type": "code",
      "source": "\nimport numpy as np\nimport os\nimport cv2\nimport pandas as pd\nimport joblib\nfrom pathlib import Path\nfrom keras.applications.vgg16 import preprocess_input\nfrom keras.models import  Model\n\nfrom keras.applications import vgg16\nfrom keras.preprocessing import image\nfrom keras.layers import Dense,Flatten,Dropout,InputLayer\nfrom keras.models import Sequential\n\nfrom keras import optimizers\nfrom sklearn.model_selection import train_test_split\n",
      "execution_count": null,
      "outputs": []
    },
    {
      "metadata": {
        "trusted": true,
        "_uuid": "105a8ea9bbad5256712e4510fa650d599a156c88"
      },
      "cell_type": "code",
      "source": "# -*- coding: utf-8 -*-\n\"\"\"\nCreated on Tue Nov 13 19:24:29 2018\n\n@author: ldhandu\n\"\"\"\n\n\ndef load_images_from_folder(folder,lent):\n    \n    \n    count = 0\n    images = []\n    \n    \n    for filename in os.listdir(folder):\n\n#        img = cv2.imread(os.path.join(folder,filename))\n        img = image.load_img(os.path.join(folder,filename),target_size=(224,224))\n        img = image.img_to_array(img)\n        img = preprocess_input(img)\n        \n        \n        if img is not None:\n            images.append(img)\n        \n        count = count + 1\n        \n        if count == lent:\n            break\n            \n    return images\n\ndef array_to_df(arr_as_list,label_name):\n    \n    temp_arr = np.array(arr_as_list)\n    temp_arr = np.reshape(temp_arr,(temp_arr.shape[0],224*224*3 ) )\n    \n    \n        \n    temp_label =[]\n    \n    for i in range(0,temp_arr.shape[0]):\n        temp_label.append(label_name)\n    \n    temp_label  = np.asarray(temp_label)\n    \n    image_df = pd.DataFrame(temp_arr)\n    label_df = pd.DataFrame(temp_label)    \n        \n    total_df = pd.concat([image_df,label_df],axis=1)\n    \n    return total_df\n\nimages_circle = load_images_from_folder('../input/shapes/circle',250)\nimages_square = load_images_from_folder('../input/shapes/square',250)\nimages_star = load_images_from_folder('../input/shapes/star',250)\nimages_triangle = load_images_from_folder('../input/shapes/triangle',250)\n\n\n\nprint(type(images_circle))\n\ncircle_df = array_to_df(images_circle,'circle')\nsquare_df = array_to_df(images_square,'square')\nstar_df = array_to_df(images_star,'star')\ntriangle_df = array_to_df(images_triangle,'triangle')\n\n\ntotal_df = pd.concat([circle_df,star_df,square_df,triangle_df],axis=0)\n#print(total_df)\n\n\n\ntotal_array = np.array(total_df)\n\n\nx = total_array[:,0:-1]\ny = total_array[:,-1]\n\nfrom sklearn.preprocessing import LabelBinarizer\n\nlb = LabelBinarizer()\nlb.fit(y)\ny = lb.transform(y)\n\n\nprint(x.shape)\nprint(y.shape)\n\nx_train,x_test,y_train,y_test = train_test_split(x,y,test_size = 0.25)\n\nprint('x_train : ', x_train.shape)\nprint('x_test : ', x_test.shape)\nprint('y_train : ', y_train.shape)\nprint('y_test : ', y_test.shape)",
      "execution_count": null,
      "outputs": []
    },
    {
      "metadata": {
        "trusted": true,
        "_uuid": "9e55c0d5e2674d57db4b19c4b7dfc647849ec0e9"
      },
      "cell_type": "code",
      "source": "x_train = x_train/225\nx_test = x_test/225",
      "execution_count": null,
      "outputs": []
    },
    {
      "metadata": {
        "trusted": true,
        "_uuid": "380445becbbc61aea43046a3d783e74d990b7f7f"
      },
      "cell_type": "code",
      "source": "#Feature Extraction way of transfer learning\n\n\nvgg = vgg16.VGG16(include_top=False, weights='imagenet',input_shape=(224,224,3)) \n \noutput = vgg.layers[-1].output \noutput = Flatten()(output) \nvgg_model = Model(vgg.input, output) \nvgg_model.trainable = False \n \nfor layer in vgg_model.layers: \n    layer.trainable = False \n \nvgg_model.summary() \n\n\ndef get_bottleneck_features(model, input_imgs): \n    features = model.predict(input_imgs, verbose=0) \n    return features \n\ntrain_features_vgg = get_bottleneck_features(vgg_model, np.reshape(x_train,(750,224,224,3))) \ntest_features_vgg = get_bottleneck_features(vgg_model, np.reshape(x_test,(250,224,224,3))) \n\ninput_shape = vgg_model.output_shape[1] \nmodel = Sequential() \nmodel.add(InputLayer(input_shape=(input_shape,))) \nmodel.add(Dense(512, activation='relu', input_dim=input_shape))\nmodel.add(Dropout(0.3)) \nmodel.add(Dense(512, activation='relu')) \nmodel.add(Dropout(0.3)) \nmodel.add(Dense(4, activation='sigmoid')) \nmodel.compile(loss='binary_crossentropy',optimizer=optimizers.RMSprop(lr=1e-4),metrics=['accuracy']) \n\nmodel.summary()",
      "execution_count": null,
      "outputs": []
    },
    {
      "metadata": {
        "trusted": true,
        "_uuid": "902034b9558cbf3f3468acad7a3fe1f02e71cd48"
      },
      "cell_type": "code",
      "source": "history2 = model.fit(train_features_vgg,y_train,epochs=10,validation_data=(test_features_vgg,y_test))",
      "execution_count": null,
      "outputs": []
    },
    {
      "metadata": {
        "trusted": true,
        "_uuid": "1e1c53469584f79db5ecf3445160508252e3c598"
      },
      "cell_type": "code",
      "source": "model.save('/kaggle/working/tf_model_vgg'+'.h5')",
      "execution_count": null,
      "outputs": []
    },
    {
      "metadata": {
        "trusted": true,
        "_uuid": "fbe8b10a38fc3ec3810188f57b8c5ab3b4d050a8"
      },
      "cell_type": "code",
      "source": "",
      "execution_count": null,
      "outputs": []
    }
  ],
  "metadata": {
    "kernelspec": {
      "display_name": "Python 3",
      "language": "python",
      "name": "python3"
    },
    "language_info": {
      "name": "python",
      "version": "3.6.6",
      "mimetype": "text/x-python",
      "codemirror_mode": {
        "name": "ipython",
        "version": 3
      },
      "pygments_lexer": "ipython3",
      "nbconvert_exporter": "python",
      "file_extension": ".py"
    }
  },
  "nbformat": 4,
  "nbformat_minor": 1
}